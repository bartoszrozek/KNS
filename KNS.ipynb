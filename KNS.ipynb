{
 "cells": [
  {
   "cell_type": "code",
   "execution_count": 1,
   "id": "d4b372d4",
   "metadata": {},
   "outputs": [],
   "source": [
    "from random import randrange\n",
    "import random\n",
    "import copy"
   ]
  },
  {
   "cell_type": "code",
   "execution_count": 2,
   "id": "81e5ab4e",
   "metadata": {},
   "outputs": [],
   "source": [
    "class word:\n",
    "    \n",
    "    def __init__(self, alphabet_length):\n",
    "        alphabet = [\"A\", \"B\", \"C\", \"D\", \"E\", \"F\", \"G\", \"H\", \"I\", \"J\", \"K\", \"L\", \"M\"]\n",
    "        \n",
    "        self.letters = []\n",
    "        self.length = 0\n",
    "        self.alphabet = alphabet[0:alphabet_length+1]\n",
    "        \n",
    "    def show(self):\n",
    "        print((\"\".join([\"{\" + str(i) + \":^5}\" for i in range(self.length)])).format(*self.letters))\n",
    "        print((\"\".join([\"{\" + str(i) + \":<5}\" for i in range(self.length + 1)])).format(*list(range(0,self.length+1))))\n",
    "        \n",
    "    def add_letter(self, letter, place):\n",
    "        try:\n",
    "            if(letter not in self.alphabet):\n",
    "                raise ValueError('Letter is not from alphabet')\n",
    "            self.letters.insert(place, letter)\n",
    "            self.length += 1\n",
    "        except ValueError as err:\n",
    "            print(err)\n",
    "            \n",
    "    def check_repetition(self):\n",
    "        for i in range(self.length-1):\n",
    "            for j in range(min(i + 1, self.length-i-1)):\n",
    "                if(self.letters[i-j:i+1] == self.letters[i+1:i+j+2]):\n",
    "                    return [True, i, j]\n",
    "        else: \n",
    "            return [False]\n",
    "        \n",
    "    def computer_move(self, place):\n",
    "        letters = list(self.alphabet)\n",
    "        random.shuffle(letters)\n",
    "        for letter in letters:\n",
    "            temp = copy.deepcopy(self)\n",
    "            temp.add_letter(letter, place)\n",
    "            if(not temp.check_repetition()[0]):\n",
    "                self.letters = temp.letters\n",
    "                self.length = temp.length\n",
    "                return\n",
    "        self.letters = temp.letters\n",
    "        self.length = temp.length"
   ]
  },
  {
   "cell_type": "code",
   "execution_count": 3,
   "id": "bd3d0f21",
   "metadata": {},
   "outputs": [],
   "source": [
    "x = word(9)\n",
    "alphabet = [\"A\", \"B\", \"C\", \"D\", \"E\", \"F\", \"G\", \"H\", \"I\", \"J\", \"K\", \"L\", \"M\"]\n",
    "for i in range(5):\n",
    "    x.add_letter(alphabet[randrange(9)],0)"
   ]
  },
  {
   "cell_type": "code",
   "execution_count": 4,
   "id": "1a37186b",
   "metadata": {
    "scrolled": true
   },
   "outputs": [
    {
     "name": "stdout",
     "output_type": "stream",
     "text": [
      "  C    A    I    C    I  \n",
      "0    1    2    3    4    5    \n"
     ]
    }
   ],
   "source": [
    "x.show()"
   ]
  },
  {
   "cell_type": "code",
   "execution_count": 5,
   "id": "3e2b018e",
   "metadata": {},
   "outputs": [],
   "source": [
    "x.computer_move(1)"
   ]
  },
  {
   "cell_type": "code",
   "execution_count": 6,
   "id": "e3eec495",
   "metadata": {
    "scrolled": false
   },
   "outputs": [
    {
     "name": "stdout",
     "output_type": "stream",
     "text": [
      "  C    D    A    I    C    I  \n",
      "0    1    2    3    4    5    6    \n"
     ]
    }
   ],
   "source": [
    "x.show()"
   ]
  },
  {
   "cell_type": "code",
   "execution_count": null,
   "id": "6626d604",
   "metadata": {},
   "outputs": [],
   "source": []
  }
 ],
 "metadata": {
  "kernelspec": {
   "display_name": "Python 3 (ipykernel)",
   "language": "python",
   "name": "python3"
  },
  "language_info": {
   "codemirror_mode": {
    "name": "ipython",
    "version": 3
   },
   "file_extension": ".py",
   "mimetype": "text/x-python",
   "name": "python",
   "nbconvert_exporter": "python",
   "pygments_lexer": "ipython3",
   "version": "3.9.5"
  }
 },
 "nbformat": 4,
 "nbformat_minor": 5
}
